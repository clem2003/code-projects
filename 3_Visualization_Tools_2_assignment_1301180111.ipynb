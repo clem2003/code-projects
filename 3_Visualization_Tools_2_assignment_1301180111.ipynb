{
  "nbformat": 4,
  "nbformat_minor": 0,
  "metadata": {
    "colab": {
      "name": "3 Visualization Tools 2-assignment_1301180111.ipynb",
      "provenance": [],
      "collapsed_sections": []
    },
    "kernelspec": {
      "display_name": "Python 3",
      "language": "python",
      "name": "python3"
    },
    "language_info": {
      "codemirror_mode": {
        "name": "ipython",
        "version": 3
      },
      "file_extension": ".py",
      "mimetype": "text/x-python",
      "name": "python",
      "nbconvert_exporter": "python",
      "pygments_lexer": "ipython3",
      "version": "3.8.3"
    }
  },
  "cells": [
    {
      "cell_type": "markdown",
      "metadata": {
        "button": false,
        "id": "eOrotXqjrU9k",
        "new_sheet": false,
        "run_control": {
          "read_only": false
        }
      },
      "source": [
        "# Downloading and Prepping Data <a id=\"2\"></a>"
      ]
    },
    {
      "cell_type": "markdown",
      "metadata": {
        "button": false,
        "id": "HlkvIvpOrU9l",
        "new_sheet": false,
        "run_control": {
          "read_only": false
        }
      },
      "source": [
        "Import primary modules."
      ]
    },
    {
      "cell_type": "code",
      "metadata": {
        "button": false,
        "id": "m6OpAccNrU9l",
        "new_sheet": false,
        "run_control": {
          "read_only": false
        }
      },
      "source": [
        "import numpy as np  # useful for many scientific computing in Python\n",
        "import pandas as pd # primary data structure library\n",
        "%matplotlib inline \n",
        "\n",
        "import matplotlib as mpl\n",
        "import matplotlib.pyplot as plt"
      ],
      "execution_count": 14,
      "outputs": []
    },
    {
      "cell_type": "markdown",
      "metadata": {
        "button": false,
        "id": "k6WJnInxrU9p",
        "new_sheet": false,
        "run_control": {
          "read_only": false
        }
      },
      "source": [
        "Download the dataset and read it into a *pandas* dataframe."
      ]
    },
    {
      "cell_type": "code",
      "metadata": {
        "button": false,
        "colab": {
          "base_uri": "https://localhost:8080/"
        },
        "id": "L80QpVpOrU9p",
        "new_sheet": false,
        "run_control": {
          "read_only": false
        },
        "outputId": "8d9ed80b-50de-4026-c823-d3e8d973d7f0"
      },
      "source": [
        "df_can = pd.read_excel('https://s3-api.us-geo.objectstorage.softlayer.net/cf-courses-data/CognitiveClass/DV0101EN/labs/Data_Files/Canada.xlsx',\n",
        "                       sheet_name='Canada by Citizenship',\n",
        "                       skiprows=range(20),\n",
        "                       skipfooter=2\n",
        "                      )\n",
        "\n",
        "print('Data downloaded and read into a dataframe!')"
      ],
      "execution_count": 2,
      "outputs": [
        {
          "output_type": "stream",
          "name": "stdout",
          "text": [
            "Data downloaded and read into a dataframe!\n"
          ]
        }
      ]
    },
    {
      "cell_type": "markdown",
      "metadata": {
        "button": false,
        "id": "VYd1elD1rU9x",
        "new_sheet": false,
        "run_control": {
          "read_only": false
        }
      },
      "source": [
        "Clean up data. We will make some modifications to the original dataset to make it easier to create our visualizations. Refer to *Introduction to Matplotlib and Line Plots* and *Area Plots, Histograms, and Bar Plots* for a detailed description of this preprocessing."
      ]
    },
    {
      "cell_type": "code",
      "metadata": {
        "button": false,
        "colab": {
          "base_uri": "https://localhost:8080/"
        },
        "id": "XOr65n4trU9y",
        "new_sheet": false,
        "run_control": {
          "read_only": false
        },
        "outputId": "c489faea-7c10-49bf-e78d-42e57edfefc6"
      },
      "source": [
        "# clean up the dataset to remove unnecessary columns (eg. REG) \n",
        "df_can.drop(['AREA', 'REG', 'DEV', 'Type', 'Coverage'], axis=1, inplace=True)\n",
        "\n",
        "# let's rename the columns so that they make sense\n",
        "df_can.rename(columns={'OdName':'Country', 'AreaName':'Continent','RegName':'Region'}, inplace=True)\n",
        "\n",
        "# for sake of consistency, let's also make all column labels of type string\n",
        "df_can.columns = list(map(str, df_can.columns))\n",
        "\n",
        "# set the country name as index - useful for quickly looking up countries using .loc method\n",
        "df_can.set_index('Country', inplace=True)\n",
        "\n",
        "# add total column\n",
        "df_can['Total'] = df_can.sum(axis=1)\n",
        "\n",
        "# years that we will be using in this lesson - useful for plotting later on\n",
        "years = list(map(str, range(1980, 2014)))\n",
        "print('data dimensions:', df_can.shape)"
      ],
      "execution_count": 3,
      "outputs": [
        {
          "output_type": "stream",
          "name": "stdout",
          "text": [
            "data dimensions: (195, 38)\n"
          ]
        }
      ]
    },
    {
      "cell_type": "markdown",
      "metadata": {
        "button": false,
        "id": "uZ7ZcrfUrU-D",
        "new_sheet": false,
        "run_control": {
          "read_only": false
        }
      },
      "source": [
        "**Question 1:** Using a pie chart, explore the proportion (percentage) of new immigrants grouped by continents in the year 2013.\n",
        "\n",
        "**Note**: You might need to play with the explore values in order to fix any overlapping slice values."
      ]
    },
    {
      "cell_type": "code",
      "metadata": {
        "button": false,
        "colab": {
          "base_uri": "https://localhost:8080/",
          "height": 430
        },
        "id": "v3JjdS-mrU-D",
        "new_sheet": false,
        "run_control": {
          "read_only": false
        },
        "outputId": "d8f2446a-c497-4e99-dbfb-da4b2aa7d76f"
      },
      "source": [
        "### type your answer here\n",
        "#define dataframe\n",
        "df_continents = df_can.groupby('Continent', axis=0).sum()\n",
        "#df_continents.head()\n",
        "explode_list = [0.1, 0, 0, 0, 0.1, 0.2] # ratio for each continent with which to offset each wedge.\n",
        "\n",
        "df_continents['2013'].plot(kind='pie',\n",
        "                            figsize=(15, 6),\n",
        "                            autopct='%1.1f%%', \n",
        "                            startangle=90,    \n",
        "                            shadow=True,       \n",
        "                            labels=None,                 # turn off labels on pie chart\n",
        "                            pctdistance=1.12,            # the ratio between the pie center and start of text label\n",
        "                            explode=explode_list         # 'explode' lowest 3 continents\n",
        "                            )\n",
        "plt.title('Percentage of Immigrants by Continents in 2013', y=1.12) \n",
        "plt.axis('equal') \n",
        "\n",
        "plt.legend(labels=df_continents.index, loc='upper left')\n"
      ],
      "execution_count": 23,
      "outputs": [
        {
          "output_type": "execute_result",
          "data": {
            "text/plain": [
              "<matplotlib.legend.Legend at 0x7f55484559d0>"
            ]
          },
          "metadata": {},
          "execution_count": 23
        },
        {
          "output_type": "display_data",
          "data": {
            "image/png": "[encoded data removed]",
            "text/plain": [
              "<Figure size 1080x432 with 1 Axes>"
            ]
          },
          "metadata": {}
        }
      ]
    },
    {
      "cell_type": "markdown",
      "metadata": {
        "button": false,
        "id": "943LO07qrU-V",
        "new_sheet": false,
        "run_control": {
          "read_only": false
        }
      },
      "source": [
        "**Question 2:** Compare the distribution of the number of immigrants from Pakistan and Afghanistan from 1980 to 2013."
      ]
    },
    {
      "cell_type": "markdown",
      "metadata": {
        "button": false,
        "id": "72LNdQ9RrU-W",
        "new_sheet": false,
        "run_control": {
          "read_only": false
        }
      },
      "source": [
        "Step 1: Get the dataset for Pakistan and Afghanistan and call the dataframe **df_PA**."
      ]
    },
    {
      "cell_type": "code",
      "metadata": {
        "button": false,
        "colab": {
          "base_uri": "https://localhost:8080/",
          "height": 206
        },
        "id": "OMfvH2aurU-Z",
        "new_sheet": false,
        "run_control": {
          "read_only": false
        },
        "outputId": "f2ee45fb-b703-4713-f466-ffd81d79bc08"
      },
      "source": [
        "### type your answer here\n",
        "df_PA = df_can.loc[['Pakistan','Afghanistan'], years].transpose()\n",
        "df_PA.head()\n",
        "\n"
      ],
      "execution_count": 18,
      "outputs": [
        {
          "output_type": "execute_result",
          "data": {
            "text/html": [
              "<div>\n",
              "<style scoped>\n",
              "    .dataframe tbody tr th:only-of-type {\n",
              "        vertical-align: middle;\n",
              "    }\n",
              "\n",
              "    .dataframe tbody tr th {\n",
              "        vertical-align: top;\n",
              "    }\n",
              "\n",
              "    .dataframe thead th {\n",
              "        text-align: right;\n",
              "    }\n",
              "</style>\n",
              "<table border=\"1\" class=\"dataframe\">\n",
              "  <thead>\n",
              "    <tr style=\"text-align: right;\">\n",
              "      <th>Country</th>\n",
              "      <th>Pakistan</th>\n",
              "      <th>Afghanistan</th>\n",
              "    </tr>\n",
              "  </thead>\n",
              "  <tbody>\n",
              "    <tr>\n",
              "      <th>1980</th>\n",
              "      <td>978</td>\n",
              "      <td>16</td>\n",
              "    </tr>\n",
              "    <tr>\n",
              "      <th>1981</th>\n",
              "      <td>972</td>\n",
              "      <td>39</td>\n",
              "    </tr>\n",
              "    <tr>\n",
              "      <th>1982</th>\n",
              "      <td>1201</td>\n",
              "      <td>39</td>\n",
              "    </tr>\n",
              "    <tr>\n",
              "      <th>1983</th>\n",
              "      <td>900</td>\n",
              "      <td>47</td>\n",
              "    </tr>\n",
              "    <tr>\n",
              "      <th>1984</th>\n",
              "      <td>668</td>\n",
              "      <td>71</td>\n",
              "    </tr>\n",
              "  </tbody>\n",
              "</table>\n",
              "</div>"
            ],
            "text/plain": [
              "Country  Pakistan  Afghanistan\n",
              "1980          978           16\n",
              "1981          972           39\n",
              "1982         1201           39\n",
              "1983          900           47\n",
              "1984          668           71"
            ]
          },
          "metadata": {},
          "execution_count": 18
        }
      ]
    },
    {
      "cell_type": "markdown",
      "metadata": {
        "button": false,
        "id": "hQYKR4T4rU-e",
        "new_sheet": false,
        "run_control": {
          "read_only": false
        }
      },
      "source": [
        "Step 2: Plot data."
      ]
    },
    {
      "cell_type": "code",
      "metadata": {
        "button": false,
        "colab": {
          "base_uri": "https://localhost:8080/",
          "height": 407
        },
        "id": "iLUPNOixrU-f",
        "new_sheet": false,
        "run_control": {
          "read_only": false
        },
        "outputId": "4b719b16-2ce2-4269-d5c7-efaef7ecf9c2"
      },
      "source": [
        "### type your answer here\n",
        "#create plot\n",
        "df_PA.plot(kind='box', figsize=(8, 6))\n",
        "\n",
        "#give plot and label for plotting\n",
        "plt.title('Plots of Immigrants from Pakistan and Afghanistan (1980 - 2013)')\n",
        "plt.ylabel('Number of Immigrants')\n",
        "\n",
        "\n"
      ],
      "execution_count": 24,
      "outputs": [
        {
          "output_type": "execute_result",
          "data": {
            "text/plain": [
              "Text(0, 0.5, 'Number of Immigrants')"
            ]
          },
          "metadata": {},
          "execution_count": 24
        },
        {
          "output_type": "display_data",
          "data": {
            "image/png": "[encoded data removed]",
            "text/plain": [
              "<Figure size 576x432 with 1 Axes>"
            ]
          },
          "metadata": {
            "needs_background": "light"
          }
        }
      ]
    },
    {
      "cell_type": "markdown",
      "metadata": {
        "button": false,
        "id": "bhFX3AbtrU_O",
        "new_sheet": false,
        "run_control": {
          "read_only": false
        }
      },
      "source": [
        "**Question 3**: Create a scatter plot of the total immigration from Denmark, Norway, and Sweden to Canada from 1980 to 2013?"
      ]
    },
    {
      "cell_type": "markdown",
      "metadata": {
        "button": false,
        "id": "0pAGY-29rU_O",
        "new_sheet": false,
        "run_control": {
          "read_only": false
        }
      },
      "source": [
        "Step 1: Get the data:\n",
        "   1. Create a dataframe the consists of the numbers associated with Denmark, Norway, and Sweden only. Name it **df_countries**.\n",
        "   2. Sum the immigration numbers across all three countries for each year and turn the result into a dataframe. Name this new dataframe **df_total**.\n",
        "   3. Reset the index in place.\n",
        "   4. Rename the columns to **year** and **total**.\n",
        "   5. Display the resulting dataframe."
      ]
    },
    {
      "cell_type": "code",
      "metadata": {
        "button": false,
        "colab": {
          "base_uri": "https://localhost:8080/",
          "height": 206
        },
        "id": "FC4NtDn3rU_Q",
        "new_sheet": false,
        "run_control": {
          "read_only": false
        },
        "scrolled": true,
        "outputId": "5073d14a-93af-419f-a53a-b3064f77c002"
      },
      "source": [
        "### type your answer here\n",
        "#define dataframe\n",
        "df_countries = df_can.loc[['Denmark', 'Norway', 'Sweden'],years].transpose()\n",
        "\n",
        "# create df_total by summing across three countries for each year\n",
        "df_total = pd.DataFrame(df_countries.sum(axis=1))\n",
        "\n",
        "# reset index in place\n",
        "df_total.reset_index(inplace=True)\n",
        "\n",
        " # rename columns\n",
        "df_total.columns = ['year', 'total']\n",
        "\n",
        "# change column year from string to int to create scatter plot\n",
        "df_total['year'] = df_total['year'].astype(int)\n",
        "\n",
        "# show resulting dataframe\n",
        "df_total.head()\n",
        "\n",
        "\n"
      ],
      "execution_count": 25,
      "outputs": [
        {
          "output_type": "execute_result",
          "data": {
            "text/html": [
              "<div>\n",
              "<style scoped>\n",
              "    .dataframe tbody tr th:only-of-type {\n",
              "        vertical-align: middle;\n",
              "    }\n",
              "\n",
              "    .dataframe tbody tr th {\n",
              "        vertical-align: top;\n",
              "    }\n",
              "\n",
              "    .dataframe thead th {\n",
              "        text-align: right;\n",
              "    }\n",
              "</style>\n",
              "<table border=\"1\" class=\"dataframe\">\n",
              "  <thead>\n",
              "    <tr style=\"text-align: right;\">\n",
              "      <th></th>\n",
              "      <th>year</th>\n",
              "      <th>total</th>\n",
              "    </tr>\n",
              "  </thead>\n",
              "  <tbody>\n",
              "    <tr>\n",
              "      <th>0</th>\n",
              "      <td>1980</td>\n",
              "      <td>669</td>\n",
              "    </tr>\n",
              "    <tr>\n",
              "      <th>1</th>\n",
              "      <td>1981</td>\n",
              "      <td>678</td>\n",
              "    </tr>\n",
              "    <tr>\n",
              "      <th>2</th>\n",
              "      <td>1982</td>\n",
              "      <td>627</td>\n",
              "    </tr>\n",
              "    <tr>\n",
              "      <th>3</th>\n",
              "      <td>1983</td>\n",
              "      <td>333</td>\n",
              "    </tr>\n",
              "    <tr>\n",
              "      <th>4</th>\n",
              "      <td>1984</td>\n",
              "      <td>252</td>\n",
              "    </tr>\n",
              "  </tbody>\n",
              "</table>\n",
              "</div>"
            ],
            "text/plain": [
              "   year  total\n",
              "0  1980    669\n",
              "1  1981    678\n",
              "2  1982    627\n",
              "3  1983    333\n",
              "4  1984    252"
            ]
          },
          "metadata": {},
          "execution_count": 25
        }
      ]
    },
    {
      "cell_type": "markdown",
      "metadata": {
        "button": false,
        "id": "Rfq2XmdYrU_U",
        "new_sheet": false,
        "run_control": {
          "read_only": false
        }
      },
      "source": [
        "Step 2: Generate the scatter plot by plotting the total versus year in **df_total**."
      ]
    },
    {
      "cell_type": "code",
      "metadata": {
        "button": false,
        "colab": {
          "base_uri": "https://localhost:8080/",
          "height": 422
        },
        "id": "QS-dFL1prU_U",
        "new_sheet": false,
        "run_control": {
          "read_only": false
        },
        "outputId": "595d369d-8203-449d-c927-f5434b35ab22"
      },
      "source": [
        "### type your answer here\n",
        "df_total.plot(kind='scatter', x='year', y='total', figsize=(10, 6), color='darkblue')\n",
        "\n",
        " # add title and label to axes\n",
        "plt.title('Immigration Numbers from Denmark, Norway, and Sweden to Canada from 1980 - 2013')\n",
        "plt.xlabel('Year')\n",
        "plt.ylabel('Number of Immigrants')\n",
        "\n",
        "\n"
      ],
      "execution_count": 26,
      "outputs": [
        {
          "output_type": "execute_result",
          "data": {
            "text/plain": [
              "Text(0, 0.5, 'Number of Immigrants')"
            ]
          },
          "metadata": {},
          "execution_count": 26
        },
        {
          "output_type": "display_data",
          "data": {
            "image/png": "[encoded data removed]",
            "text/plain": [
              "<Figure size 720x432 with 1 Axes>"
            ]
          },
          "metadata": {
            "needs_background": "light"
          }
        }
      ]
    },
    {
      "cell_type": "markdown",
      "metadata": {
        "button": false,
        "id": "OMWnB404rU_h",
        "new_sheet": false,
        "run_control": {
          "read_only": false
        }
      },
      "source": [
        "**Question 4**: Previously in this lab, we created box plots to compare immigration from China and India to Canada. Create bubble plots of immigration from China and India to visualize any differences with time from 1980 to 2013. You can use **df_can_t** that we defined and used in the previous example."
      ]
    },
    {
      "cell_type": "markdown",
      "metadata": {
        "button": false,
        "id": "chmnaxQnrU_i",
        "new_sheet": false,
        "run_control": {
          "read_only": false
        }
      },
      "source": [
        "Step 1: Normalize the data pertaining to China and India."
      ]
    },
    {
      "cell_type": "code",
      "metadata": {
        "button": false,
        "colab": {
          "base_uri": "https://localhost:8080/",
          "height": 359
        },
        "id": "eKUqolgorU_i",
        "new_sheet": false,
        "run_control": {
          "read_only": false
        },
        "outputId": "c2237899-5d9e-4242-fd2f-0edbeb7005ce"
      },
      "source": [
        "### type your answer here\n",
        "#define df_can_t\n",
        "df_can_t = df_can[years].transpose() # transposed dataframe\n",
        "\n",
        "# cast the Years (the index) to type int\n",
        "df_can_t.index = map(int, df_can_t.index)\n",
        "\n",
        "# let's label the index. This will automatically be the column name when we reset the index\n",
        "df_can_t.index.name = 'Year'\n",
        "\n",
        "# reset index to bring the Year in as a column\n",
        "df_can_t.reset_index(inplace=True)\n",
        "\n",
        "# view the changes\n",
        "df_can_t.head()\n",
        "\n",
        "\n"
      ],
      "execution_count": 32,
      "outputs": [
        {
          "output_type": "execute_result",
          "data": {
            "text/html": [
              "<div>\n",
              "<style scoped>\n",
              "    .dataframe tbody tr th:only-of-type {\n",
              "        vertical-align: middle;\n",
              "    }\n",
              "\n",
              "    .dataframe tbody tr th {\n",
              "        vertical-align: top;\n",
              "    }\n",
              "\n",
              "    .dataframe thead th {\n",
              "        text-align: right;\n",
              "    }\n",
              "</style>\n",
              "<table border=\"1\" class=\"dataframe\">\n",
              "  <thead>\n",
              "    <tr style=\"text-align: right;\">\n",
              "      <th>Country</th>\n",
              "      <th>Year</th>\n",
              "      <th>Afghanistan</th>\n",
              "      <th>Albania</th>\n",
              "      <th>Algeria</th>\n",
              "      <th>American Samoa</th>\n",
              "      <th>Andorra</th>\n",
              "      <th>Angola</th>\n",
              "      <th>Antigua and Barbuda</th>\n",
              "      <th>Argentina</th>\n",
              "      <th>Armenia</th>\n",
              "      <th>Australia</th>\n",
              "      <th>Austria</th>\n",
              "      <th>Azerbaijan</th>\n",
              "      <th>Bahamas</th>\n",
              "      <th>Bahrain</th>\n",
              "      <th>Bangladesh</th>\n",
              "      <th>Barbados</th>\n",
              "      <th>Belarus</th>\n",
              "      <th>Belgium</th>\n",
              "      <th>Belize</th>\n",
              "      <th>Benin</th>\n",
              "      <th>Bhutan</th>\n",
              "      <th>Bolivia (Plurinational State of)</th>\n",
              "      <th>Bosnia and Herzegovina</th>\n",
              "      <th>Botswana</th>\n",
              "      <th>Brazil</th>\n",
              "      <th>Brunei Darussalam</th>\n",
              "      <th>Bulgaria</th>\n",
              "      <th>Burkina Faso</th>\n",
              "      <th>Burundi</th>\n",
              "      <th>Cabo Verde</th>\n",
              "      <th>Cambodia</th>\n",
              "      <th>Cameroon</th>\n",
              "      <th>Canada</th>\n",
              "      <th>Central African Republic</th>\n",
              "      <th>Chad</th>\n",
              "      <th>Chile</th>\n",
              "      <th>China</th>\n",
              "      <th>China, Hong Kong Special Administrative Region</th>\n",
              "      <th>China, Macao Special Administrative Region</th>\n",
              "      <th>...</th>\n",
              "      <th>Sierra Leone</th>\n",
              "      <th>Singapore</th>\n",
              "      <th>Slovakia</th>\n",
              "      <th>Slovenia</th>\n",
              "      <th>Somalia</th>\n",
              "      <th>South Africa</th>\n",
              "      <th>Spain</th>\n",
              "      <th>Sri Lanka</th>\n",
              "      <th>State of Palestine</th>\n",
              "      <th>Sudan</th>\n",
              "      <th>Suriname</th>\n",
              "      <th>Swaziland</th>\n",
              "      <th>Sweden</th>\n",
              "      <th>Switzerland</th>\n",
              "      <th>Syrian Arab Republic</th>\n",
              "      <th>Tajikistan</th>\n",
              "      <th>Thailand</th>\n",
              "      <th>The former Yugoslav Republic of Macedonia</th>\n",
              "      <th>Togo</th>\n",
              "      <th>Tonga</th>\n",
              "      <th>Trinidad and Tobago</th>\n",
              "      <th>Tunisia</th>\n",
              "      <th>Turkey</th>\n",
              "      <th>Turkmenistan</th>\n",
              "      <th>Tuvalu</th>\n",
              "      <th>Uganda</th>\n",
              "      <th>Ukraine</th>\n",
              "      <th>United Arab Emirates</th>\n",
              "      <th>United Kingdom of Great Britain and Northern Ireland</th>\n",
              "      <th>United Republic of Tanzania</th>\n",
              "      <th>United States of America</th>\n",
              "      <th>Uruguay</th>\n",
              "      <th>Uzbekistan</th>\n",
              "      <th>Vanuatu</th>\n",
              "      <th>Venezuela (Bolivarian Republic of)</th>\n",
              "      <th>Viet Nam</th>\n",
              "      <th>Western Sahara</th>\n",
              "      <th>Yemen</th>\n",
              "      <th>Zambia</th>\n",
              "      <th>Zimbabwe</th>\n",
              "    </tr>\n",
              "  </thead>\n",
              "  <tbody>\n",
              "    <tr>\n",
              "      <th>0</th>\n",
              "      <td>1980</td>\n",
              "      <td>16</td>\n",
              "      <td>1</td>\n",
              "      <td>80</td>\n",
              "      <td>0</td>\n",
              "      <td>0</td>\n",
              "      <td>1</td>\n",
              "      <td>0</td>\n",
              "      <td>368</td>\n",
              "      <td>0</td>\n",
              "      <td>702</td>\n",
              "      <td>234</td>\n",
              "      <td>0</td>\n",
              "      <td>26</td>\n",
              "      <td>0</td>\n",
              "      <td>83</td>\n",
              "      <td>372</td>\n",
              "      <td>0</td>\n",
              "      <td>511</td>\n",
              "      <td>16</td>\n",
              "      <td>2</td>\n",
              "      <td>0</td>\n",
              "      <td>44</td>\n",
              "      <td>0</td>\n",
              "      <td>10</td>\n",
              "      <td>211</td>\n",
              "      <td>79</td>\n",
              "      <td>24</td>\n",
              "      <td>2</td>\n",
              "      <td>0</td>\n",
              "      <td>1</td>\n",
              "      <td>12</td>\n",
              "      <td>9</td>\n",
              "      <td>0</td>\n",
              "      <td>4</td>\n",
              "      <td>0</td>\n",
              "      <td>1233</td>\n",
              "      <td>5123</td>\n",
              "      <td>0</td>\n",
              "      <td>0</td>\n",
              "      <td>...</td>\n",
              "      <td>6</td>\n",
              "      <td>241</td>\n",
              "      <td>0</td>\n",
              "      <td>0</td>\n",
              "      <td>7</td>\n",
              "      <td>1026</td>\n",
              "      <td>211</td>\n",
              "      <td>185</td>\n",
              "      <td>0</td>\n",
              "      <td>20</td>\n",
              "      <td>15</td>\n",
              "      <td>4</td>\n",
              "      <td>281</td>\n",
              "      <td>806</td>\n",
              "      <td>315</td>\n",
              "      <td>0</td>\n",
              "      <td>56</td>\n",
              "      <td>0</td>\n",
              "      <td>5</td>\n",
              "      <td>2</td>\n",
              "      <td>958</td>\n",
              "      <td>58</td>\n",
              "      <td>481</td>\n",
              "      <td>0</td>\n",
              "      <td>0</td>\n",
              "      <td>13</td>\n",
              "      <td>0</td>\n",
              "      <td>0</td>\n",
              "      <td>22045</td>\n",
              "      <td>635</td>\n",
              "      <td>9378</td>\n",
              "      <td>128</td>\n",
              "      <td>0</td>\n",
              "      <td>0</td>\n",
              "      <td>103</td>\n",
              "      <td>1191</td>\n",
              "      <td>0</td>\n",
              "      <td>1</td>\n",
              "      <td>11</td>\n",
              "      <td>72</td>\n",
              "    </tr>\n",
              "    <tr>\n",
              "      <th>1</th>\n",
              "      <td>1981</td>\n",
              "      <td>39</td>\n",
              "      <td>0</td>\n",
              "      <td>67</td>\n",
              "      <td>1</td>\n",
              "      <td>0</td>\n",
              "      <td>3</td>\n",
              "      <td>0</td>\n",
              "      <td>426</td>\n",
              "      <td>0</td>\n",
              "      <td>639</td>\n",
              "      <td>238</td>\n",
              "      <td>0</td>\n",
              "      <td>23</td>\n",
              "      <td>2</td>\n",
              "      <td>84</td>\n",
              "      <td>376</td>\n",
              "      <td>0</td>\n",
              "      <td>540</td>\n",
              "      <td>27</td>\n",
              "      <td>5</td>\n",
              "      <td>0</td>\n",
              "      <td>52</td>\n",
              "      <td>0</td>\n",
              "      <td>1</td>\n",
              "      <td>220</td>\n",
              "      <td>6</td>\n",
              "      <td>20</td>\n",
              "      <td>1</td>\n",
              "      <td>0</td>\n",
              "      <td>1</td>\n",
              "      <td>19</td>\n",
              "      <td>2</td>\n",
              "      <td>0</td>\n",
              "      <td>3</td>\n",
              "      <td>0</td>\n",
              "      <td>1069</td>\n",
              "      <td>6682</td>\n",
              "      <td>0</td>\n",
              "      <td>0</td>\n",
              "      <td>...</td>\n",
              "      <td>6</td>\n",
              "      <td>301</td>\n",
              "      <td>0</td>\n",
              "      <td>0</td>\n",
              "      <td>10</td>\n",
              "      <td>1118</td>\n",
              "      <td>299</td>\n",
              "      <td>371</td>\n",
              "      <td>0</td>\n",
              "      <td>12</td>\n",
              "      <td>10</td>\n",
              "      <td>1</td>\n",
              "      <td>308</td>\n",
              "      <td>811</td>\n",
              "      <td>419</td>\n",
              "      <td>0</td>\n",
              "      <td>53</td>\n",
              "      <td>0</td>\n",
              "      <td>5</td>\n",
              "      <td>4</td>\n",
              "      <td>947</td>\n",
              "      <td>51</td>\n",
              "      <td>874</td>\n",
              "      <td>0</td>\n",
              "      <td>1</td>\n",
              "      <td>16</td>\n",
              "      <td>0</td>\n",
              "      <td>2</td>\n",
              "      <td>24796</td>\n",
              "      <td>832</td>\n",
              "      <td>10030</td>\n",
              "      <td>132</td>\n",
              "      <td>0</td>\n",
              "      <td>0</td>\n",
              "      <td>117</td>\n",
              "      <td>1829</td>\n",
              "      <td>0</td>\n",
              "      <td>2</td>\n",
              "      <td>17</td>\n",
              "      <td>114</td>\n",
              "    </tr>\n",
              "    <tr>\n",
              "      <th>2</th>\n",
              "      <td>1982</td>\n",
              "      <td>39</td>\n",
              "      <td>0</td>\n",
              "      <td>71</td>\n",
              "      <td>0</td>\n",
              "      <td>0</td>\n",
              "      <td>6</td>\n",
              "      <td>0</td>\n",
              "      <td>626</td>\n",
              "      <td>0</td>\n",
              "      <td>484</td>\n",
              "      <td>201</td>\n",
              "      <td>0</td>\n",
              "      <td>38</td>\n",
              "      <td>1</td>\n",
              "      <td>86</td>\n",
              "      <td>299</td>\n",
              "      <td>0</td>\n",
              "      <td>519</td>\n",
              "      <td>13</td>\n",
              "      <td>4</td>\n",
              "      <td>0</td>\n",
              "      <td>42</td>\n",
              "      <td>0</td>\n",
              "      <td>3</td>\n",
              "      <td>192</td>\n",
              "      <td>8</td>\n",
              "      <td>12</td>\n",
              "      <td>3</td>\n",
              "      <td>0</td>\n",
              "      <td>2</td>\n",
              "      <td>26</td>\n",
              "      <td>16</td>\n",
              "      <td>0</td>\n",
              "      <td>1</td>\n",
              "      <td>1</td>\n",
              "      <td>1078</td>\n",
              "      <td>3308</td>\n",
              "      <td>0</td>\n",
              "      <td>0</td>\n",
              "      <td>...</td>\n",
              "      <td>7</td>\n",
              "      <td>337</td>\n",
              "      <td>0</td>\n",
              "      <td>0</td>\n",
              "      <td>7</td>\n",
              "      <td>781</td>\n",
              "      <td>260</td>\n",
              "      <td>290</td>\n",
              "      <td>0</td>\n",
              "      <td>11</td>\n",
              "      <td>21</td>\n",
              "      <td>1</td>\n",
              "      <td>222</td>\n",
              "      <td>634</td>\n",
              "      <td>409</td>\n",
              "      <td>0</td>\n",
              "      <td>113</td>\n",
              "      <td>0</td>\n",
              "      <td>2</td>\n",
              "      <td>7</td>\n",
              "      <td>972</td>\n",
              "      <td>55</td>\n",
              "      <td>706</td>\n",
              "      <td>0</td>\n",
              "      <td>0</td>\n",
              "      <td>17</td>\n",
              "      <td>0</td>\n",
              "      <td>2</td>\n",
              "      <td>20620</td>\n",
              "      <td>621</td>\n",
              "      <td>9074</td>\n",
              "      <td>146</td>\n",
              "      <td>0</td>\n",
              "      <td>0</td>\n",
              "      <td>174</td>\n",
              "      <td>2162</td>\n",
              "      <td>0</td>\n",
              "      <td>1</td>\n",
              "      <td>11</td>\n",
              "      <td>102</td>\n",
              "    </tr>\n",
              "    <tr>\n",
              "      <th>3</th>\n",
              "      <td>1983</td>\n",
              "      <td>47</td>\n",
              "      <td>0</td>\n",
              "      <td>69</td>\n",
              "      <td>0</td>\n",
              "      <td>0</td>\n",
              "      <td>6</td>\n",
              "      <td>0</td>\n",
              "      <td>241</td>\n",
              "      <td>0</td>\n",
              "      <td>317</td>\n",
              "      <td>117</td>\n",
              "      <td>0</td>\n",
              "      <td>12</td>\n",
              "      <td>1</td>\n",
              "      <td>81</td>\n",
              "      <td>244</td>\n",
              "      <td>0</td>\n",
              "      <td>297</td>\n",
              "      <td>21</td>\n",
              "      <td>3</td>\n",
              "      <td>0</td>\n",
              "      <td>49</td>\n",
              "      <td>0</td>\n",
              "      <td>3</td>\n",
              "      <td>139</td>\n",
              "      <td>2</td>\n",
              "      <td>33</td>\n",
              "      <td>2</td>\n",
              "      <td>0</td>\n",
              "      <td>0</td>\n",
              "      <td>33</td>\n",
              "      <td>7</td>\n",
              "      <td>0</td>\n",
              "      <td>0</td>\n",
              "      <td>0</td>\n",
              "      <td>781</td>\n",
              "      <td>1863</td>\n",
              "      <td>0</td>\n",
              "      <td>0</td>\n",
              "      <td>...</td>\n",
              "      <td>3</td>\n",
              "      <td>169</td>\n",
              "      <td>0</td>\n",
              "      <td>0</td>\n",
              "      <td>12</td>\n",
              "      <td>379</td>\n",
              "      <td>133</td>\n",
              "      <td>197</td>\n",
              "      <td>0</td>\n",
              "      <td>7</td>\n",
              "      <td>12</td>\n",
              "      <td>0</td>\n",
              "      <td>176</td>\n",
              "      <td>370</td>\n",
              "      <td>269</td>\n",
              "      <td>0</td>\n",
              "      <td>65</td>\n",
              "      <td>0</td>\n",
              "      <td>3</td>\n",
              "      <td>1</td>\n",
              "      <td>766</td>\n",
              "      <td>46</td>\n",
              "      <td>280</td>\n",
              "      <td>0</td>\n",
              "      <td>0</td>\n",
              "      <td>38</td>\n",
              "      <td>0</td>\n",
              "      <td>1</td>\n",
              "      <td>10015</td>\n",
              "      <td>474</td>\n",
              "      <td>7100</td>\n",
              "      <td>105</td>\n",
              "      <td>0</td>\n",
              "      <td>0</td>\n",
              "      <td>124</td>\n",
              "      <td>3404</td>\n",
              "      <td>0</td>\n",
              "      <td>6</td>\n",
              "      <td>7</td>\n",
              "      <td>44</td>\n",
              "    </tr>\n",
              "    <tr>\n",
              "      <th>4</th>\n",
              "      <td>1984</td>\n",
              "      <td>71</td>\n",
              "      <td>0</td>\n",
              "      <td>63</td>\n",
              "      <td>0</td>\n",
              "      <td>0</td>\n",
              "      <td>4</td>\n",
              "      <td>42</td>\n",
              "      <td>237</td>\n",
              "      <td>0</td>\n",
              "      <td>317</td>\n",
              "      <td>127</td>\n",
              "      <td>0</td>\n",
              "      <td>21</td>\n",
              "      <td>1</td>\n",
              "      <td>98</td>\n",
              "      <td>265</td>\n",
              "      <td>0</td>\n",
              "      <td>183</td>\n",
              "      <td>37</td>\n",
              "      <td>4</td>\n",
              "      <td>1</td>\n",
              "      <td>38</td>\n",
              "      <td>0</td>\n",
              "      <td>7</td>\n",
              "      <td>145</td>\n",
              "      <td>2</td>\n",
              "      <td>11</td>\n",
              "      <td>3</td>\n",
              "      <td>1</td>\n",
              "      <td>11</td>\n",
              "      <td>10</td>\n",
              "      <td>8</td>\n",
              "      <td>0</td>\n",
              "      <td>0</td>\n",
              "      <td>0</td>\n",
              "      <td>681</td>\n",
              "      <td>1527</td>\n",
              "      <td>0</td>\n",
              "      <td>0</td>\n",
              "      <td>...</td>\n",
              "      <td>12</td>\n",
              "      <td>128</td>\n",
              "      <td>0</td>\n",
              "      <td>0</td>\n",
              "      <td>14</td>\n",
              "      <td>271</td>\n",
              "      <td>137</td>\n",
              "      <td>1086</td>\n",
              "      <td>0</td>\n",
              "      <td>23</td>\n",
              "      <td>5</td>\n",
              "      <td>10</td>\n",
              "      <td>128</td>\n",
              "      <td>326</td>\n",
              "      <td>264</td>\n",
              "      <td>0</td>\n",
              "      <td>82</td>\n",
              "      <td>0</td>\n",
              "      <td>6</td>\n",
              "      <td>2</td>\n",
              "      <td>606</td>\n",
              "      <td>51</td>\n",
              "      <td>338</td>\n",
              "      <td>0</td>\n",
              "      <td>1</td>\n",
              "      <td>32</td>\n",
              "      <td>0</td>\n",
              "      <td>2</td>\n",
              "      <td>10170</td>\n",
              "      <td>473</td>\n",
              "      <td>6661</td>\n",
              "      <td>90</td>\n",
              "      <td>0</td>\n",
              "      <td>0</td>\n",
              "      <td>142</td>\n",
              "      <td>7583</td>\n",
              "      <td>0</td>\n",
              "      <td>0</td>\n",
              "      <td>16</td>\n",
              "      <td>32</td>\n",
              "    </tr>\n",
              "  </tbody>\n",
              "</table>\n",
              "<p>5 rows × 196 columns</p>\n",
              "</div>"
            ],
            "text/plain": [
              "Country  Year  Afghanistan  Albania  ...  Yemen  Zambia  Zimbabwe\n",
              "0        1980           16        1  ...      1      11        72\n",
              "1        1981           39        0  ...      2      17       114\n",
              "2        1982           39        0  ...      1      11       102\n",
              "3        1983           47        0  ...      6       7        44\n",
              "4        1984           71        0  ...      0      16        32\n",
              "\n",
              "[5 rows x 196 columns]"
            ]
          },
          "metadata": {},
          "execution_count": 32
        }
      ]
    },
    {
      "cell_type": "code",
      "metadata": {
        "id": "Xh0toGz-4pQU"
      },
      "source": [
        "#normalize China's data\n",
        "nlz_china = (df_can_t['China'] - df_can_t['China'].min()) / (df_can_t['China'].max() - df_can_t['China'].min())\n",
        "\n",
        "#normalize India's data\n",
        "nlz_india = (df_can_t['India'] - df_can_t['India'].min()) / (df_can_t['India'].max() - df_can_t['India'].min())"
      ],
      "execution_count": 33,
      "outputs": []
    },
    {
      "cell_type": "markdown",
      "metadata": {
        "button": false,
        "id": "Fvp_gheyrU_k",
        "new_sheet": false,
        "run_control": {
          "read_only": false
        }
      },
      "source": [
        "Step 2: Generate the bubble plots."
      ]
    },
    {
      "cell_type": "code",
      "metadata": {
        "button": false,
        "colab": {
          "base_uri": "https://localhost:8080/",
          "height": 530
        },
        "id": "omlZBcNKrU_l",
        "new_sheet": false,
        "run_control": {
          "read_only": false
        },
        "outputId": "023618c3-3726-4760-b526-dd288b44c131"
      },
      "source": [
        "### type your answer here\n",
        "#bubble plot for China\n",
        "bub1 = df_can_t.plot(kind='scatter',\n",
        "                    x='Year',\n",
        "                    y='China',\n",
        "                    figsize=(14, 8),\n",
        "                    alpha=0.5,                  # transparency\n",
        "                    color='green',\n",
        "                    s=nlz_china * 2000 + 10,  # pass in weights \n",
        "                    xlim=(1975, 2015)\n",
        "                   )\n",
        "\n",
        "#bubble plot for India\n",
        "bub2 = df_can_t.plot(kind='scatter',\n",
        "                    x='Year',\n",
        "                    y='India',\n",
        "                    alpha=0.5,\n",
        "                    color=\"blue\",\n",
        "                    s=nlz_india * 2000 + 10,\n",
        "                    ax = bub1\n",
        "                   )\n",
        "\n",
        "bub1.set_ylabel('Number of Immigrants')\n",
        "bub1.set_title('Immigration from China and India from 1980 - 2013')\n",
        "bub1.legend(['China', 'India'], loc='upper left', fontsize='x-large')\n"
      ],
      "execution_count": 36,
      "outputs": [
        {
          "output_type": "execute_result",
          "data": {
            "text/plain": [
              "<matplotlib.legend.Legend at 0x7f554339e6d0>"
            ]
          },
          "metadata": {},
          "execution_count": 36
        },
        {
          "output_type": "display_data",
          "data": {
            "image/png": "[encoded data removed]",
            "text/plain": [
              "<Figure size 1008x576 with 1 Axes>"
            ]
          },
          "metadata": {
            "needs_background": "light"
          }
        }
      ]
    },
    {
      "cell_type": "markdown",
      "metadata": {
        "button": false,
        "id": "xTJ_gKTtrU_n",
        "new_sheet": false,
        "run_control": {
          "read_only": false
        }
      },
      "source": [
        "# Thank you for completing this lab!"
      ]
    },
    {
      "cell_type": "markdown",
      "metadata": {
        "button": false,
        "id": "cwgnIYRErU_o",
        "new_sheet": false,
        "run_control": {
          "read_only": false
        }
      },
      "source": [
        "<hr>\n",
        "\n",
        "Copyright &copy; 2019 [Cognitive Class](https://cognitiveclass.ai/?utm_source=bducopyrightlink&utm_medium=dswb&utm_campaign=bdu). This notebook and its source code are released under the terms of the [MIT License](https://bigdatauniversity.com/mit-license/)."
      ]
    }
  ]
}